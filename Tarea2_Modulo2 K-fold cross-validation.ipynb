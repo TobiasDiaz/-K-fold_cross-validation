{
 "cells": [
  {
   "cell_type": "markdown",
   "id": "1e42f9f2-410b-4983-bce3-65d07e362a37",
   "metadata": {},
   "source": [
    "# Tarea 2 Modulo 2"
   ]
  },
  {
   "cell_type": "markdown",
   "id": "59b2e83e-2218-4947-9617-b65dfb428ee7",
   "metadata": {},
   "source": [
    "Traducción a español y tropicalización: Tobias Alexander Santamaria Diaz\n",
    "\n",
    "Dataset a utilizar: https://www.kaggle.com/datasets/radheshyamkollipara/bank-customer-churn\n",
    "\n",
    "Objetivos del Proyecto:\n",
    "K-fold y cross-validation"
   ]
  },
  {
   "cell_type": "markdown",
   "id": "1f25a0c6-379f-4f35-abac-e6b2671967e8",
   "metadata": {},
   "source": [
    "### Declaracion de Librerias"
   ]
  },
  {
   "cell_type": "code",
   "execution_count": 1,
   "id": "c8dee8b7-710f-4347-9af3-440f36c4026f",
   "metadata": {},
   "outputs": [],
   "source": [
    "import pandas as pd\n",
    "import matplotlib.pyplot as plt\n",
    "from sklearn.linear_model import LinearRegression \n",
    "from sklearn.model_selection import train_test_split\n",
    "from sklearn.model_selection import cross_val_score\n",
    "from sklearn.model_selection import LeaveOneOut\n",
    "from sklearn.metrics import mean_squared_error\n",
    "from sklearn.model_selection import KFold, StratifiedKFold, cross_val_score\n",
    "from sklearn import linear_model, tree, ensemble\n",
    "import numpy as np\n",
    "import warnings\n",
    "warnings.filterwarnings('ignore')"
   ]
  },
  {
   "cell_type": "code",
   "execution_count": 2,
   "id": "b6ef35d1-9311-4041-85b3-0149e46122b3",
   "metadata": {},
   "outputs": [],
   "source": [
    "# Se define el tipo de modelo a usar\n",
    "model = LinearRegression()"
   ]
  },
  {
   "cell_type": "code",
   "execution_count": 3,
   "id": "e2147af0-ad5e-425a-85bf-08f35fcc6226",
   "metadata": {},
   "outputs": [
    {
     "data": {
      "text/html": [
       "<div>\n",
       "<style scoped>\n",
       "    .dataframe tbody tr th:only-of-type {\n",
       "        vertical-align: middle;\n",
       "    }\n",
       "\n",
       "    .dataframe tbody tr th {\n",
       "        vertical-align: top;\n",
       "    }\n",
       "\n",
       "    .dataframe thead th {\n",
       "        text-align: right;\n",
       "    }\n",
       "</style>\n",
       "<table border=\"1\" class=\"dataframe\">\n",
       "  <thead>\n",
       "    <tr style=\"text-align: right;\">\n",
       "      <th></th>\n",
       "      <th>RowNumber</th>\n",
       "      <th>CustomerId</th>\n",
       "      <th>Surname</th>\n",
       "      <th>CreditScore</th>\n",
       "      <th>Geography</th>\n",
       "      <th>Gender</th>\n",
       "      <th>Age</th>\n",
       "      <th>Tenure</th>\n",
       "      <th>Balance</th>\n",
       "      <th>NumOfProducts</th>\n",
       "      <th>HasCrCard</th>\n",
       "      <th>IsActiveMember</th>\n",
       "      <th>EstimatedSalary</th>\n",
       "      <th>Exited</th>\n",
       "      <th>Complain</th>\n",
       "      <th>Satisfaction Score</th>\n",
       "      <th>Card Type</th>\n",
       "      <th>Point Earned</th>\n",
       "    </tr>\n",
       "  </thead>\n",
       "  <tbody>\n",
       "    <tr>\n",
       "      <th>0</th>\n",
       "      <td>1</td>\n",
       "      <td>15634602</td>\n",
       "      <td>Hargrave</td>\n",
       "      <td>619</td>\n",
       "      <td>France</td>\n",
       "      <td>Female</td>\n",
       "      <td>42</td>\n",
       "      <td>2</td>\n",
       "      <td>0.00</td>\n",
       "      <td>1</td>\n",
       "      <td>1</td>\n",
       "      <td>1</td>\n",
       "      <td>101348.88</td>\n",
       "      <td>1</td>\n",
       "      <td>1</td>\n",
       "      <td>2</td>\n",
       "      <td>DIAMOND</td>\n",
       "      <td>464</td>\n",
       "    </tr>\n",
       "    <tr>\n",
       "      <th>1</th>\n",
       "      <td>2</td>\n",
       "      <td>15647311</td>\n",
       "      <td>Hill</td>\n",
       "      <td>608</td>\n",
       "      <td>Spain</td>\n",
       "      <td>Female</td>\n",
       "      <td>41</td>\n",
       "      <td>1</td>\n",
       "      <td>83807.86</td>\n",
       "      <td>1</td>\n",
       "      <td>0</td>\n",
       "      <td>1</td>\n",
       "      <td>112542.58</td>\n",
       "      <td>0</td>\n",
       "      <td>1</td>\n",
       "      <td>3</td>\n",
       "      <td>DIAMOND</td>\n",
       "      <td>456</td>\n",
       "    </tr>\n",
       "    <tr>\n",
       "      <th>2</th>\n",
       "      <td>3</td>\n",
       "      <td>15619304</td>\n",
       "      <td>Onio</td>\n",
       "      <td>502</td>\n",
       "      <td>France</td>\n",
       "      <td>Female</td>\n",
       "      <td>42</td>\n",
       "      <td>8</td>\n",
       "      <td>159660.80</td>\n",
       "      <td>3</td>\n",
       "      <td>1</td>\n",
       "      <td>0</td>\n",
       "      <td>113931.57</td>\n",
       "      <td>1</td>\n",
       "      <td>1</td>\n",
       "      <td>3</td>\n",
       "      <td>DIAMOND</td>\n",
       "      <td>377</td>\n",
       "    </tr>\n",
       "    <tr>\n",
       "      <th>3</th>\n",
       "      <td>4</td>\n",
       "      <td>15701354</td>\n",
       "      <td>Boni</td>\n",
       "      <td>699</td>\n",
       "      <td>France</td>\n",
       "      <td>Female</td>\n",
       "      <td>39</td>\n",
       "      <td>1</td>\n",
       "      <td>0.00</td>\n",
       "      <td>2</td>\n",
       "      <td>0</td>\n",
       "      <td>0</td>\n",
       "      <td>93826.63</td>\n",
       "      <td>0</td>\n",
       "      <td>0</td>\n",
       "      <td>5</td>\n",
       "      <td>GOLD</td>\n",
       "      <td>350</td>\n",
       "    </tr>\n",
       "    <tr>\n",
       "      <th>4</th>\n",
       "      <td>5</td>\n",
       "      <td>15737888</td>\n",
       "      <td>Mitchell</td>\n",
       "      <td>850</td>\n",
       "      <td>Spain</td>\n",
       "      <td>Female</td>\n",
       "      <td>43</td>\n",
       "      <td>2</td>\n",
       "      <td>125510.82</td>\n",
       "      <td>1</td>\n",
       "      <td>1</td>\n",
       "      <td>1</td>\n",
       "      <td>79084.10</td>\n",
       "      <td>0</td>\n",
       "      <td>0</td>\n",
       "      <td>5</td>\n",
       "      <td>GOLD</td>\n",
       "      <td>425</td>\n",
       "    </tr>\n",
       "  </tbody>\n",
       "</table>\n",
       "</div>"
      ],
      "text/plain": [
       "   RowNumber  CustomerId   Surname  CreditScore Geography  Gender  Age  \\\n",
       "0          1    15634602  Hargrave          619    France  Female   42   \n",
       "1          2    15647311      Hill          608     Spain  Female   41   \n",
       "2          3    15619304      Onio          502    France  Female   42   \n",
       "3          4    15701354      Boni          699    France  Female   39   \n",
       "4          5    15737888  Mitchell          850     Spain  Female   43   \n",
       "\n",
       "   Tenure    Balance  NumOfProducts  HasCrCard  IsActiveMember  \\\n",
       "0       2       0.00              1          1               1   \n",
       "1       1   83807.86              1          0               1   \n",
       "2       8  159660.80              3          1               0   \n",
       "3       1       0.00              2          0               0   \n",
       "4       2  125510.82              1          1               1   \n",
       "\n",
       "   EstimatedSalary  Exited  Complain  Satisfaction Score Card Type  \\\n",
       "0        101348.88       1         1                   2   DIAMOND   \n",
       "1        112542.58       0         1                   3   DIAMOND   \n",
       "2        113931.57       1         1                   3   DIAMOND   \n",
       "3         93826.63       0         0                   5      GOLD   \n",
       "4         79084.10       0         0                   5      GOLD   \n",
       "\n",
       "   Point Earned  \n",
       "0           464  \n",
       "1           456  \n",
       "2           377  \n",
       "3           350  \n",
       "4           425  "
      ]
     },
     "execution_count": 3,
     "metadata": {},
     "output_type": "execute_result"
    }
   ],
   "source": [
    "# Cargar el conjunto de datos desde un archivo CSV\n",
    "df = pd.read_csv(\"./dataset/Customer-Churn-Records.csv\")  # Lee el archivo CSV  y lo carga en un DataFrame de pandas\n",
    "df.head()"
   ]
  },
  {
   "cell_type": "code",
   "execution_count": 4,
   "id": "3165db7a-56da-4649-b0e8-4e96dea342bc",
   "metadata": {},
   "outputs": [
    {
     "name": "stdout",
     "output_type": "stream",
     "text": [
      "<class 'pandas.core.frame.DataFrame'>\n",
      "RangeIndex: 10000 entries, 0 to 9999\n",
      "Data columns (total 18 columns):\n",
      " #   Column              Non-Null Count  Dtype  \n",
      "---  ------              --------------  -----  \n",
      " 0   RowNumber           10000 non-null  int64  \n",
      " 1   CustomerId          10000 non-null  int64  \n",
      " 2   Surname             10000 non-null  object \n",
      " 3   CreditScore         10000 non-null  int64  \n",
      " 4   Geography           10000 non-null  object \n",
      " 5   Gender              10000 non-null  object \n",
      " 6   Age                 10000 non-null  int64  \n",
      " 7   Tenure              10000 non-null  int64  \n",
      " 8   Balance             10000 non-null  float64\n",
      " 9   NumOfProducts       10000 non-null  int64  \n",
      " 10  HasCrCard           10000 non-null  int64  \n",
      " 11  IsActiveMember      10000 non-null  int64  \n",
      " 12  EstimatedSalary     10000 non-null  float64\n",
      " 13  Exited              10000 non-null  int64  \n",
      " 14  Complain            10000 non-null  int64  \n",
      " 15  Satisfaction Score  10000 non-null  int64  \n",
      " 16  Card Type           10000 non-null  object \n",
      " 17  Point Earned        10000 non-null  int64  \n",
      "dtypes: float64(2), int64(12), object(4)\n",
      "memory usage: 1.4+ MB\n"
     ]
    }
   ],
   "source": [
    "# Informacion del dataset\n",
    "df.info()"
   ]
  },
  {
   "cell_type": "code",
   "execution_count": 5,
   "id": "4a0f4510-e449-4e9f-a06a-99b007cd434d",
   "metadata": {},
   "outputs": [
    {
     "data": {
      "image/png": "[encoded data removed]",
      "text/plain": [
       "<Figure size 800x600 with 1 Axes>"
      ]
     },
     "metadata": {},
     "output_type": "display_data"
    }
   ],
   "source": [
    "# Crear el histograma para la variable 'Balance'\n",
    "plt.figure(figsize=(8,6))\n",
    "plt.hist(df['Balance'], bins=50, color='blue', edgecolor='black')\n",
    "plt.title('Histograma de los precios de los diamantes')\n",
    "plt.xlabel('Balance')\n",
    "plt.ylabel('Frecuencia')\n",
    "\n",
    "# Mostrar la gráfica\n",
    "plt.show()"
   ]
  },
  {
   "cell_type": "markdown",
   "id": "8aa9116a-bf2e-4ad7-9067-7fc70d650b8e",
   "metadata": {},
   "source": [
    "La grafica muestra el saldo de la cuenta de los cliente, es un muy buen indicador de la pérdida de clientes, ya que las personas con un saldo más alto en sus cuentas tienen menos probabilidades de dejar el banco en comparación con aquellos con saldos más bajos"
   ]
  },
  {
   "cell_type": "code",
   "execution_count": 6,
   "id": "70688967-a08d-439e-865c-2cdf0fc78fd1",
   "metadata": {},
   "outputs": [
    {
     "data": {
      "image/png": "[encoded data removed]",
      "text/plain": [
       "<Figure size 800x600 with 1 Axes>"
      ]
     },
     "metadata": {},
     "output_type": "display_data"
    }
   ],
   "source": [
    "# Crear una nube de puntos (scatter plot) entre 'Balance' y 'NumOfProducts'\n",
    "plt.figure(figsize=(8,6))\n",
    "plt.scatter(df['Balance'], df['NumOfProducts'], color='blue', alpha=0.5)\n",
    "plt.title('Nube de puntos entre el valor total en la cuenta (Balance) y el numero de productos comprados')\n",
    "plt.xlabel('Balance')\n",
    "plt.ylabel('NumOfProducts(Numero de produtos)')\n",
    "\n",
    "# Mostrar la gráfica\n",
    "plt.show()"
   ]
  },
  {
   "cell_type": "code",
   "execution_count": 7,
   "id": "30d6353c-f902-45b1-b947-324c48992feb",
   "metadata": {},
   "outputs": [
    {
     "name": "stdout",
     "output_type": "stream",
     "text": [
      "Correlación entre Balance y NumOfProducts: -0.3041797383605491\n"
     ]
    }
   ],
   "source": [
    "correlation = df['Balance'].corr(df['NumOfProducts'])\n",
    "print(f\"Correlación entre Balance y NumOfProducts: {correlation}\")"
   ]
  },
  {
   "cell_type": "markdown",
   "id": "8c9cbec6-7e7e-44c7-b8a1-b73d4091d75c",
   "metadata": {},
   "source": [
    "hay una relación inversa entre las dos variables. Es decir, a medida que el número de productos (NumOfProducts) aumenta, el saldo (Balance) tiende a disminuir, y viceversa."
   ]
  },
  {
   "cell_type": "code",
   "execution_count": 8,
   "id": "55c2b288-a5a2-4209-9f70-cfa27519f4c4",
   "metadata": {},
   "outputs": [],
   "source": [
    "model = model.fit( df[ [\"Balance\"] ], df[\"NumOfProducts\"] )"
   ]
  },
  {
   "cell_type": "code",
   "execution_count": 9,
   "id": "a07893f0-70b3-408a-96df-26765b38570c",
   "metadata": {},
   "outputs": [],
   "source": [
    "X = df.drop([\"NumOfProducts\"], axis = 1)\n",
    "y = df[\"NumOfProducts\"]"
   ]
  },
  {
   "cell_type": "markdown",
   "id": "474bebef-f3e9-45c1-90b1-46fdb57e66dd",
   "metadata": {},
   "source": [
    "y = df[\"NumOfProducts\"]:\n",
    "\n",
    "Selecciona la columna NumOfProducts como la variable objetivo (target), es decir, lo que el modelo va a intentar predecir. y será una Serie de pandas que contiene el numero de productos con el valor de la cuenta de cada cliente."
   ]
  },
  {
   "cell_type": "code",
   "execution_count": 10,
   "id": "abd4a58e-20a1-4aa1-976b-1c71acdca90b",
   "metadata": {},
   "outputs": [],
   "source": [
    "X_train, X_test, y_train, y_test = train_test_split(X, y, test_size=0.15, random_state=27)"
   ]
  },
  {
   "cell_type": "code",
   "execution_count": 11,
   "id": "80f8e699-f2e5-4102-8f5a-0d0dd84acb88",
   "metadata": {},
   "outputs": [],
   "source": [
    "model.fit(X_train[[\"Balance\"]], y_train)\n",
    "pred = model.predict(X_test[[\"Balance\"]])"
   ]
  },
  {
   "cell_type": "code",
   "execution_count": 12,
   "id": "bc766357-e841-40e6-8ef6-29708265322d",
   "metadata": {},
   "outputs": [
    {
     "name": "stdout",
     "output_type": "stream",
     "text": [
      "Root Mean Squared Error (RMSE): 0.5449435281544167\n"
     ]
    }
   ],
   "source": [
    "try: \n",
    "    RMSE = mean_squared_error(y_test, pred, squared=False)\n",
    "    print(\"Root Mean Squared Error (RMSE):\", RMSE)\n",
    "except Exception as e:\n",
    "    print(f\"Ocurrió un error al ajustar el modelo: {e}\")"
   ]
  },
  {
   "cell_type": "markdown",
   "id": "85c8e1e8-399c-439b-bdb2-22b506434d51",
   "metadata": {},
   "source": [
    "Las predicciones del modelo están a 0.545 unidades (en la misma escala que la variable que se está prediciendo) de los valores reales. Un RMSE más bajo significa que el modelo tiene un mejor desempeño, ya que las predicciones son más cercanas a los valores verdaderos.\n",
    "\n"
   ]
  },
  {
   "cell_type": "code",
   "execution_count": 13,
   "id": "45760405-837c-4f12-90f3-afcfc1e22492",
   "metadata": {},
   "outputs": [],
   "source": [
    "k_fold_cv = 20"
   ]
  },
  {
   "cell_type": "code",
   "execution_count": 14,
   "id": "48f3b906-696a-464e-b147-b33050296242",
   "metadata": {},
   "outputs": [],
   "source": [
    "score_kfold = cross_val_score(model, X[[\"Balance\"]], y, cv=k_fold_cv, scoring=\"neg_mean_squared_error\")"
   ]
  },
  {
   "cell_type": "code",
   "execution_count": 15,
   "id": "7ac515f9-ebd5-4ef6-a1a2-56317ab81158",
   "metadata": {},
   "outputs": [
    {
     "data": {
      "text/plain": [
       "array([0.54667463, 0.53975798, 0.56876063, 0.53208387, 0.57444327,\n",
       "       0.60089622, 0.52538292, 0.52201293, 0.56950395, 0.59015705,\n",
       "       0.58446638, 0.53766555, 0.54403987, 0.53555149, 0.55509788,\n",
       "       0.56512793, 0.56299509, 0.52570007, 0.56871534, 0.52467085])"
      ]
     },
     "execution_count": 15,
     "metadata": {},
     "output_type": "execute_result"
    }
   ],
   "source": [
    "np.sqrt(np.abs(score_kfold))"
   ]
  },
  {
   "cell_type": "code",
   "execution_count": 16,
   "id": "6a229c8b-bf0e-4f6c-9f91-ee8814dc6d35",
   "metadata": {},
   "outputs": [
    {
     "data": {
      "image/png": "[encoded data removed]",
      "text/plain": [
       "<Figure size 800x600 with 1 Axes>"
      ]
     },
     "metadata": {},
     "output_type": "display_data"
    }
   ],
   "source": [
    "rmse_scores = np.sqrt(np.abs(score_kfold))\n",
    "\n",
    "# Crear una gráfica de barras\n",
    "plt.figure(figsize=(8,6))\n",
    "plt.bar(range(1, len(rmse_scores) + 1), rmse_scores, color='blue')\n",
    "plt.xlabel('Fold Number')\n",
    "plt.ylabel('RMSE')\n",
    "plt.title('Root Mean Squared Error (RMSE) por Fold en Validación Cruzada')\n",
    "plt.xticks(range(1, len(rmse_scores) + 1))\n",
    "\n",
    "# Mostrar la gráfica\n",
    "plt.show()"
   ]
  },
  {
   "cell_type": "code",
   "execution_count": 17,
   "id": "db259f1b-ded9-4bf8-8385-8d5477ad03d4",
   "metadata": {},
   "outputs": [
    {
     "name": "stdout",
     "output_type": "stream",
     "text": [
      "Root Mean Squared Error (k-fold CV): 0.5541671103920107\n"
     ]
    }
   ],
   "source": [
    "RMSE_kfold = np.sqrt(np.abs(score_kfold).mean())\n",
    "# Print the RMSE for k-fold cross-validation\n",
    "print(\"Root Mean Squared Error (k-fold CV):\", RMSE_kfold)"
   ]
  },
  {
   "cell_type": "markdown",
   "id": "de7b7cc3-4035-4979-ba36-c5ba1a037fb9",
   "metadata": {},
   "source": [
    "aproximadamente 0.554 indica que, en promedio, las predicciones del modelo están a 0.554 unidades de los valores reales. Este valor se interpreta como una medida de error promedio del modelo, y un RMSE más bajo sugiere un mejor ajuste."
   ]
  },
  {
   "cell_type": "code",
   "execution_count": 18,
   "id": "b0dc9274-3409-4cb6-a86e-2061d04961fe",
   "metadata": {},
   "outputs": [
    {
     "name": "stdout",
     "output_type": "stream",
     "text": [
      "Filas y Columnas de los datos: (10000, 12) y de la variable target: (10000,)\n"
     ]
    },
    {
     "data": {
      "text/html": [
       "<div>\n",
       "<style scoped>\n",
       "    .dataframe tbody tr th:only-of-type {\n",
       "        vertical-align: middle;\n",
       "    }\n",
       "\n",
       "    .dataframe tbody tr th {\n",
       "        vertical-align: top;\n",
       "    }\n",
       "\n",
       "    .dataframe thead th {\n",
       "        text-align: right;\n",
       "    }\n",
       "</style>\n",
       "<table border=\"1\" class=\"dataframe\">\n",
       "  <thead>\n",
       "    <tr style=\"text-align: right;\">\n",
       "      <th></th>\n",
       "      <th>RowNumber</th>\n",
       "      <th>CustomerId</th>\n",
       "      <th>CreditScore</th>\n",
       "      <th>Age</th>\n",
       "      <th>Tenure</th>\n",
       "      <th>HasCrCard</th>\n",
       "      <th>IsActiveMember</th>\n",
       "      <th>EstimatedSalary</th>\n",
       "      <th>Exited</th>\n",
       "      <th>Complain</th>\n",
       "      <th>Satisfaction Score</th>\n",
       "      <th>Point Earned</th>\n",
       "      <th>Balance</th>\n",
       "    </tr>\n",
       "  </thead>\n",
       "  <tbody>\n",
       "    <tr>\n",
       "      <th>0</th>\n",
       "      <td>1</td>\n",
       "      <td>15634602</td>\n",
       "      <td>619</td>\n",
       "      <td>42</td>\n",
       "      <td>2</td>\n",
       "      <td>1</td>\n",
       "      <td>1</td>\n",
       "      <td>101348.88</td>\n",
       "      <td>1</td>\n",
       "      <td>1</td>\n",
       "      <td>2</td>\n",
       "      <td>464</td>\n",
       "      <td>0.00</td>\n",
       "    </tr>\n",
       "    <tr>\n",
       "      <th>1</th>\n",
       "      <td>2</td>\n",
       "      <td>15647311</td>\n",
       "      <td>608</td>\n",
       "      <td>41</td>\n",
       "      <td>1</td>\n",
       "      <td>0</td>\n",
       "      <td>1</td>\n",
       "      <td>112542.58</td>\n",
       "      <td>0</td>\n",
       "      <td>1</td>\n",
       "      <td>3</td>\n",
       "      <td>456</td>\n",
       "      <td>83807.86</td>\n",
       "    </tr>\n",
       "    <tr>\n",
       "      <th>2</th>\n",
       "      <td>3</td>\n",
       "      <td>15619304</td>\n",
       "      <td>502</td>\n",
       "      <td>42</td>\n",
       "      <td>8</td>\n",
       "      <td>1</td>\n",
       "      <td>0</td>\n",
       "      <td>113931.57</td>\n",
       "      <td>1</td>\n",
       "      <td>1</td>\n",
       "      <td>3</td>\n",
       "      <td>377</td>\n",
       "      <td>159660.80</td>\n",
       "    </tr>\n",
       "    <tr>\n",
       "      <th>3</th>\n",
       "      <td>4</td>\n",
       "      <td>15701354</td>\n",
       "      <td>699</td>\n",
       "      <td>39</td>\n",
       "      <td>1</td>\n",
       "      <td>0</td>\n",
       "      <td>0</td>\n",
       "      <td>93826.63</td>\n",
       "      <td>0</td>\n",
       "      <td>0</td>\n",
       "      <td>5</td>\n",
       "      <td>350</td>\n",
       "      <td>0.00</td>\n",
       "    </tr>\n",
       "    <tr>\n",
       "      <th>4</th>\n",
       "      <td>5</td>\n",
       "      <td>15737888</td>\n",
       "      <td>850</td>\n",
       "      <td>43</td>\n",
       "      <td>2</td>\n",
       "      <td>1</td>\n",
       "      <td>1</td>\n",
       "      <td>79084.10</td>\n",
       "      <td>0</td>\n",
       "      <td>0</td>\n",
       "      <td>5</td>\n",
       "      <td>425</td>\n",
       "      <td>125510.82</td>\n",
       "    </tr>\n",
       "  </tbody>\n",
       "</table>\n",
       "</div>"
      ],
      "text/plain": [
       "   RowNumber  CustomerId  CreditScore  Age  Tenure  HasCrCard  IsActiveMember  \\\n",
       "0          1    15634602          619   42       2          1               1   \n",
       "1          2    15647311          608   41       1          0               1   \n",
       "2          3    15619304          502   42       8          1               0   \n",
       "3          4    15701354          699   39       1          0               0   \n",
       "4          5    15737888          850   43       2          1               1   \n",
       "\n",
       "   EstimatedSalary  Exited  Complain  Satisfaction Score  Point Earned  \\\n",
       "0        101348.88       1         1                   2           464   \n",
       "1        112542.58       0         1                   3           456   \n",
       "2        113931.57       1         1                   3           377   \n",
       "3         93826.63       0         0                   5           350   \n",
       "4         79084.10       0         0                   5           425   \n",
       "\n",
       "     Balance  \n",
       "0       0.00  \n",
       "1   83807.86  \n",
       "2  159660.80  \n",
       "3       0.00  \n",
       "4  125510.82  "
      ]
     },
     "execution_count": 18,
     "metadata": {},
     "output_type": "execute_result"
    }
   ],
   "source": [
    "# Cargar el conjunto de datos\n",
    "train_data = pd.read_csv('./dataset/Customer-Churn-Records.csv')\n",
    "\n",
    "# Eliminar filas con valores faltantes en la columna 'Balance'\n",
    "train_data.dropna(axis=0, subset=['Balance'], inplace=True)\n",
    "\n",
    "# Definir la variable objetivo (target)\n",
    "y = train_data['Balance'] # Asigna la columna 'Balance' como la variable objetivo\n",
    "\n",
    "# Eliminar la columna 'Balance' del conjunto de características (X)\n",
    "train_data.drop(['Balance'], axis=1, inplace=True)\n",
    "\n",
    "# Eliminar la columna 'NumOfProducts' del conjunto de características (X)\n",
    "train_data.drop(['NumOfProducts'], axis=1, inplace=True)\n",
    "\n",
    "# Seleccionar solo las columnas numéricas\n",
    "numeric_cols = [cname for cname in train_data.columns if train_data[cname].dtype in ['int64', 'float64']]\n",
    "\n",
    "# Crear el conjunto de características (X) utilizando solo columnas numéricas\n",
    "X = train_data[numeric_cols].copy()\n",
    "\n",
    "# Mostrar las dimensiones de X (características) y y (target)\n",
    "print(\"Filas y Columnas de los datos: {} y de la variable target: {}\".format(X.shape, y.shape))\n",
    "\n",
    "# Mostrar las primeras filas del conjunto de datos combinado (X y y)\n",
    "pd.concat([X, y], axis=1).head()"
   ]
  },
  {
   "cell_type": "code",
   "execution_count": 19,
   "id": "09883702-b7d9-47df-99a4-657789ff2253",
   "metadata": {},
   "outputs": [
    {
     "name": "stdout",
     "output_type": "stream",
     "text": [
      "Fold:1, Train set: 8000, Test set:2000\n",
      "Fold:2, Train set: 8000, Test set:2000\n",
      "Fold:3, Train set: 8000, Test set:2000\n",
      "Fold:4, Train set: 8000, Test set:2000\n",
      "Fold:5, Train set: 8000, Test set:2000\n"
     ]
    }
   ],
   "source": [
    "kf =KFold(n_splits=5, shuffle=True, random_state=42)\n",
    "\n",
    "cnt = 1\n",
    "\n",
    "for train_index, test_index in kf.split(X, y):\n",
    "    print(f'Fold:{cnt}, Train set: {len(train_index)}, Test set:{len(test_index)}')\n",
    "    cnt += 1"
   ]
  },
  {
   "cell_type": "markdown",
   "id": "901c8ee6-c193-48f0-a82f-c0c36dd4ff92",
   "metadata": {},
   "source": [
    "En cada pliegue, se reservan 2000 muestras para evaluar el rendimiento del modelo. Este conjunto no se utiliza durante el entrenamiento, lo que permite obtener una estimación más precisa de cómo se comportará el modelo en datos no vistos."
   ]
  },
  {
   "cell_type": "code",
   "execution_count": 20,
   "id": "720539fa-7ca0-4fd2-bd05-3b8701d43eff",
   "metadata": {},
   "outputs": [],
   "source": [
    "def rmse(score):\n",
    "    rmse = np.sqrt(-score)\n",
    "    print(f'rmse= {\"{:.2f}\".format(rmse)}')"
   ]
  },
  {
   "cell_type": "code",
   "execution_count": 21,
   "id": "fdc5a80a-5e51-432d-870f-f8a6445b77cf",
   "metadata": {},
   "outputs": [
    {
     "name": "stdout",
     "output_type": "stream",
     "text": [
      "Scores por fold: [-3.80667478e+09 -3.85449335e+09 -3.89233937e+09 -3.80748865e+09\n",
      " -3.85937552e+09]\n",
      "rmse= 62000.60\n"
     ]
    }
   ],
   "source": [
    "score = cross_val_score(linear_model.LinearRegression(), X, y, cv= kf, scoring=\"neg_mean_squared_error\")\n",
    "print(f'Scores por fold: {score}')\n",
    "rmse(score.mean())"
   ]
  },
  {
   "cell_type": "code",
   "execution_count": 22,
   "id": "fec46ac5-22d0-4049-b63f-fdd42d3b9951",
   "metadata": {},
   "outputs": [
    {
     "name": "stdout",
     "output_type": "stream",
     "text": [
      "Scores por fold: [-7.88113145e+09 -7.84797642e+09 -7.80419451e+09 -7.82364668e+09\n",
      " -7.75643251e+09]\n",
      "rmse= 88445.89\n"
     ]
    }
   ],
   "source": [
    "score = cross_val_score(tree.DecisionTreeRegressor(random_state= 42), X, y, cv=kf, scoring=\"neg_mean_squared_error\")\n",
    "print(f'Scores por fold: {score}')\n",
    "rmse(score.mean())"
   ]
  },
  {
   "cell_type": "code",
   "execution_count": 23,
   "id": "e251847d-cfb5-4a15-8f52-35844b1393cf",
   "metadata": {},
   "outputs": [
    {
     "name": "stdout",
     "output_type": "stream",
     "text": [
      "Scores por fold: [-3.94091617e+09 -3.99176325e+09 -4.03327550e+09 -3.93550069e+09\n",
      " -3.99326644e+09]\n",
      "rmse= 63078.87\n"
     ]
    }
   ],
   "source": [
    "score = cross_val_score(ensemble.RandomForestRegressor(random_state= 42), X, y, cv= kf, scoring=\"neg_mean_squared_error\")\n",
    "print(f'Scores por fold: {score}')\n",
    "rmse(score.mean())"
   ]
  },
  {
   "cell_type": "code",
   "execution_count": 24,
   "id": "986e7f59-8f00-4e61-911c-7a2bb922cefd",
   "metadata": {},
   "outputs": [
    {
     "name": "stdout",
     "output_type": "stream",
     "text": [
      "Cantidad de Arboles: 50\n",
      "rmse= 63417.46\n",
      "Cantidad de Arboles: 100\n",
      "rmse= 63078.87\n",
      "Cantidad de Arboles: 150\n",
      "rmse= 63021.43\n",
      "Cantidad de Arboles: 200\n",
      "rmse= 63009.43\n",
      "Cantidad de Arboles: 250\n",
      "rmse= 62952.73\n",
      "Cantidad de Arboles: 300\n",
      "rmse= 62911.33\n",
      "Cantidad de Arboles: 350\n",
      "rmse= 62876.54\n",
      "Cantidad de Arboles: 700\n",
      "rmse= 62803.57\n",
      "Cantidad de Arboles: 1000\n",
      "rmse= 62785.86\n"
     ]
    }
   ],
   "source": [
    "estimators = [50, 100, 150, 200, 250, 300, 350, 700, 1000]\n",
    "\n",
    "for count in estimators:\n",
    "    score = cross_val_score(ensemble.RandomForestRegressor(n_estimators= count, random_state= 42), X, y, cv= kf, scoring=\"neg_mean_squared_error\")\n",
    "    print(f'Cantidad de Arboles: {count}')\n",
    "    rmse(score.mean())"
   ]
  },
  {
   "cell_type": "code",
   "execution_count": null,
   "id": "86e76aeb-e43f-4d21-8f84-55d5f41d2312",
   "metadata": {},
   "outputs": [],
   "source": []
  }
 ],
 "metadata": {
  "kernelspec": {
   "display_name": "Python 3 (ipykernel)",
   "language": "python",
   "name": "python3"
  },
  "language_info": {
   "codemirror_mode": {
    "name": "ipython",
    "version": 3
   },
   "file_extension": ".py",
   "mimetype": "text/x-python",
   "name": "python",
   "nbconvert_exporter": "python",
   "pygments_lexer": "ipython3",
   "version": "3.12.5"
  }
 },
 "nbformat": 4,
 "nbformat_minor": 5
}
